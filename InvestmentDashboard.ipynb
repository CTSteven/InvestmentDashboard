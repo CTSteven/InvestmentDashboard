{
 "metadata": {
  "language_info": {
   "codemirror_mode": {
    "name": "ipython",
    "version": 3
   },
   "file_extension": ".py",
   "mimetype": "text/x-python",
   "name": "python",
   "nbconvert_exporter": "python",
   "pygments_lexer": "ipython3",
   "version": "3.6.3-final"
  },
  "orig_nbformat": 2,
  "kernelspec": {
   "name": "python36364bitmyenvvenv92c6f264227046668b513e81ec6b02ec",
   "display_name": "Python 3.6.3 64-bit ('my_env': venv)"
  }
 },
 "nbformat": 4,
 "nbformat_minor": 2,
 "cells": [
  {
   "cell_type": "markdown",
   "metadata": {},
   "source": [
    "## Simple Value Investing , using python (proof of concept)\n",
    "\n",
    "This application refer [Vincent Tatan's blog at Medium](https://towardsdatascience.com/value-investing-dashboard-with-python-beautiful-soup-and-dash-python-43002f6a97ca)  to help user to makie profitable trading decision base on stock price history , financial summary , basic value analysis and infered reasonable share price. \n",
    "\n",
    "Most codes are based on Vincent's github project and do some modification in order to run in Jupyter notebook and  my prefered UI.  You can go to Vincent's blog to get complete explanation. \n",
    "\n",
    "### This application has not been rigorously tested and its domain rules are very simple which are hard to cover the complexity of real stock market. There may be also some bugs cause wrong information.\n",
    "## <span style='color:blue'>Don't use this application to make real trading decision. </span>\n",
    "\n",
    "\n",
    "\n",
    "------------------\n",
    "\n",
    "### Main process :\n",
    "\n",
    "1. Get stock ticker and name to be data source of dropdown control\n",
    "2. Get stock price history from yahoo through pandas datareader when user choose a stock from dropdown control\n",
    "3. Plot stock k chart , sma  , macd , rsi lines\n",
    "4. Get stock financial information from financial website to do basic analysis and infer future value for trading decision.\n",
    "\n",
    "\n",
    "\n",
    "### Parsing fincial information from MarketWatch web site\n",
    "    For example, to get Google's financial information from this url : https://www.marketwatch.com/investing/stock/GOOG/financials\n",
    "\n",
    "\n",
    "\n",
    "### Use pandas datareader through yahoo to get share price history\n",
    "```\n",
    "    pdr.DataReader(\n",
    "            ticker.strip(),data_source='yahoo',start=dt(2020,1,1),end=end_date\n",
    "    )\n",
    "```\n",
    "\n",
    "\n",
    "### Warning Signs List based on value investing logic ###\n",
    "\n",
    "Given list of the companies, find out the feasibility to invest\n",
    "\n",
    "1. Been in market minimal 10 years\n",
    "1. Have the track records (EPS per year)\n",
    "1. Have efficiency (ROE > 15%) — Net income / shareholder equity\n",
    "1. Determine manipulation (ROA > 7%) — Net income / Total Asset\n",
    "1. Have small long term debt (Long term debt <5* total income)\n",
    "1. Low Debt to Equity\n",
    "1. Ability to pay interest: (Interest Coverage Ratio >3) — EBIT / Interest expenses\n",
    "\n",
    "\n",
    "\n",
    "### Decision rules for stock transaction\n",
    "\n",
    "Decision making from each company in terms of return rate given the value investing methodology :\n",
    "\n",
    "1. Find EPS Annual Compounded Growth Rate\n",
    "2. Estimate EPS 10 years from now\n",
    "3. Estimate stock price 10 years from now (Stock Price EPS * Average PE)\n",
    "4. Determine target by price today based on returns(discount rate 15%/20%)\n",
    "   - Discount rate indicated predicted inflation over the period of 5 years. \n",
    "5. Add margin of safety (Safety net 15%)\n",
    "   - Margin calculation rate is the toleration for error. You add on additional safety net in the case of calculation error. The more the margin calculation rate, the more risk averse you are or vice versa.\n",
    "6. Buy if market price is lower than the marginal price\n",
    "7. Sell if market price is higher than the marginal price"
   ]
  },
  {
   "cell_type": "code",
   "execution_count": 2,
   "metadata": {
    "tags": []
   },
   "outputs": [
    {
     "output_type": "display_data",
     "data": {
      "text/html": "        <script type=\"text/javascript\">\n        window.PlotlyConfig = {MathJaxConfig: 'local'};\n        if (window.MathJax) {MathJax.Hub.Config({SVG: {font: \"STIX-Web\"}});}\n        if (typeof require !== 'undefined') {\n        require.undef(\"plotly\");\n        requirejs.config({\n            paths: {\n                'plotly': ['https://cdn.plot.ly/plotly-latest.min']\n            }\n        });\n        require(['plotly'], function(Plotly) {\n            window._Plotly = Plotly;\n        });\n        }\n        </script>\n        "
     },
     "metadata": {}
    }
   ],
   "source": [
    "import numpy as np\n",
    "import numpy_financial as npf\n",
    "import dash_bootstrap_components as dbc\n",
    "from dateutil.relativedelta import relativedelta\n",
    "import webbrowser\n",
    "import dashboard \n",
    "from dashboard import *\n",
    "import importlib\n",
    "import logging\n",
    "from flask.logging import default_handler\n",
    "#%load_ext autoreload\n",
    "%reload_ext autoreload\n",
    "%autoreload 2\n",
    "#%matplotlib inline\n",
    "cf.offline.go_offline() # with execute this command will cause QuantFig.iplot() run into error"
   ]
  },
  {
   "cell_type": "code",
   "execution_count": 3,
   "metadata": {
    "tags": []
   },
   "outputs": [
    {
     "output_type": "stream",
     "name": "stdout",
     "text": "Dash app running on http://127.0.0.1:8123/\nhttps://www.marketwatch.com/investing/stock/GOOG/financialshttps://www.marketwatch.com/investing/stock/GOOG/financialshttps://www.marketwatch.com/investing/stock/GOOG/financials\n\n\nstock_financial_report : \n    index    eps epsgrowth netincome shareholderequity     roa longtermdebt  \\\n0   2015  23.12         -    15.83B           120.33B  81.60%           2B   \n1   2016  28.32    22.51%    19.48B           139.04B  83.01%        3.94B   \n2   2017  18.27   -35.47%    12.66B            152.5B  77.30%        3.97B   \n3   2018  44.22   141.96%    30.74B           177.63B  76.30%        4.01B   \n4   2019  49.59    12.15%    34.34B           201.44B  73.01%       14.77B   \n\n  interestexpense  ebitda  \n0            104M  23.02B  \n1            124M  29.32B  \n2            109M  35.97B  \n3            114M  40.57B  \n4            100M  47.25B  \ndfformatted:\n    index    eps  epsgrowth    netincome  shareholderequity     roa  \\\n0   2015  23.12     0.0000  15830000000       120330000000  0.8160   \n1   2016  28.32     0.2251  19480000000       139040000000  0.8301   \n2   2017  18.27    -0.3547  12660000000       152500000000  0.7730   \n3   2018  44.22     1.4196  30740000000       177630000000  0.7630   \n4   2019  49.59     0.1215  34340000000       201440000000  0.7301   \n\n   longtermdebt  interestexpense       ebitda       roe  interestcoverageratio  \n0    2000000000        104000000  23020000000  0.131555             221.346154  \n1    3940000000        124000000  29320000000  0.140104             236.451613  \n2    3970000000        109000000  35970000000  0.083016             330.000000  \n3    4010000000        114000000  40570000000  0.173056             355.877193  \n4   14770000000        100000000  47250000000  0.170473             472.500000  \nstock_financial_report : \n    index    eps epsgrowth netincome shareholderequity     roa longtermdebt  \\\n0   2015  23.12         -    15.83B           120.33B  81.60%           2B   \n1   2016  28.32    22.51%    19.48B           139.04B  83.01%        3.94B   \n2   2017  18.27   -35.47%    12.66B            152.5B  77.30%        3.97B   \n3   2018  44.22   141.96%    30.74B           177.63B  76.30%        4.01B   \n4   2019  49.59    12.15%    34.34B           201.44B  73.01%       14.77B   \n\n  interestexpense  ebitda  \n0            104M  23.02B  \n1            124M  29.32B  \n2            109M  35.97B  \n3            114M  40.57B  \n4            100M  47.25B  \ndfformatted:\n    index   eps  epsgrowth    netincome  shareholderequity  roa  longtermdebt  \\\n0   2015 23.12       0.00  15830000000       120330000000 0.82    2000000000   \n1   2016 28.32       0.23  19480000000       139040000000 0.83    3940000000   \n2   2017 18.27      -0.35  12660000000       152500000000 0.77    3970000000   \n3   2018 44.22       1.42  30740000000       177630000000 0.76    4010000000   \n4   2019 49.59       0.12  34340000000       201440000000 0.73   14770000000   \n\n   interestexpense       ebitda  roe  interestcoverageratio  \n0        104000000  23020000000 0.13                 221.35  \n1        124000000  29320000000 0.14                 236.45  \n2        109000000  35970000000 0.08                 330.00  \n3        114000000  40570000000 0.17                 355.88  \n4        100000000  47250000000 0.17                 472.50  \nstock_financial_report : \n    index    eps epsgrowth netincome shareholderequity     roa longtermdebt  \\\n0   2015  23.12         -    15.83B           120.33B  81.60%           2B   \n1   2016  28.32    22.51%    19.48B           139.04B  83.01%        3.94B   \n2   2017  18.27   -35.47%    12.66B            152.5B  77.30%        3.97B   \n3   2018  44.22   141.96%    30.74B           177.63B  76.30%        4.01B   \n4   2019  49.59    12.15%    34.34B           201.44B  73.01%       14.77B   \n\n  interestexpense  ebitda  \n0            104M  23.02B  \n1            124M  29.32B  \n2            109M  35.97B  \n3            114M  40.57B  \n4            100M  47.25B  \ndfformatted:\n    index   eps  epsgrowth    netincome  shareholderequity  roa  longtermdebt  \\\n0   2015 23.12       0.00  15830000000       120330000000 0.82    2000000000   \n1   2016 28.32       0.23  19480000000       139040000000 0.83    3940000000   \n2   2017 18.27      -0.35  12660000000       152500000000 0.77    3970000000   \n3   2018 44.22       1.42  30740000000       177630000000 0.76    4010000000   \n4   2019 49.59       0.12  34340000000       201440000000 0.73   14770000000   \n\n   interestexpense       ebitda  roe  interestcoverageratio  \n0        104000000  23020000000 0.13                 221.35  \n1        124000000  29320000000 0.14                 236.45  \n2        109000000  35970000000 0.08                 330.00  \n3        114000000  40570000000 0.17                 355.88  \n4        100000000  47250000000 0.17                 472.50  \nAnnual Growth Rate 0.164880\n"
    }
   ],
   "source": [
    "app = JupyterDash(__name__,external_stylesheets=[dbc.themes.BOOTSTRAP])\n",
    "app.layout = dashboard_layout()\n",
    "app.title = 'Simple Value Investing Dashboard'\n",
    "register_callbacks(app)\n",
    "if __name__ == '__main__':\n",
    "    app.run_server(\n",
    "        debug=True,\n",
    "        mode='external',    # inline  external  jupyterlab\n",
    "        port=8123,\n",
    "        dev_tools_ui=False,\n",
    "        dev_tools_silence_routes_logging=True) \n",
    "    # set mode='external' to use web browser\n",
    "    # dev_tools_silence_routes_logging=False\n",
    "    url = 'http://localhost:8123/'\n",
    "    webbrowser.open(url)\n",
    "    \n"
   ]
  },
  {
   "cell_type": "code",
   "execution_count": null,
   "metadata": {},
   "outputs": [],
   "source": []
  }
 ]
}