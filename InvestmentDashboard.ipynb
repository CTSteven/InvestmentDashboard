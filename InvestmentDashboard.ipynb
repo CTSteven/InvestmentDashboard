{
 "metadata": {
  "language_info": {
   "codemirror_mode": {
    "name": "ipython",
    "version": 3
   },
   "file_extension": ".py",
   "mimetype": "text/x-python",
   "name": "python",
   "nbconvert_exporter": "python",
   "pygments_lexer": "ipython3",
   "version": "3.6.3-final"
  },
  "orig_nbformat": 2,
  "kernelspec": {
   "name": "python36364bitmyenvvenv92c6f264227046668b513e81ec6b02ec",
   "display_name": "Python 3.6.3 64-bit ('my_env': venv)"
  }
 },
 "nbformat": 4,
 "nbformat_minor": 2,
 "cells": [
  {
   "cell_type": "markdown",
   "metadata": {},
   "source": [
    "## Simple Value Investing , using python (proof of concept)\n",
    "\n",
    "This application refer [Vincent Tatan's blog at Medium](https://towardsdatascience.com/value-investing-dashboard-with-python-beautiful-soup-and-dash-python-43002f6a97ca)  to help user to makie profitable trading decision base on stock price history , financial summary , basic value analysis and infered reasonable share price. \n",
    "\n",
    "Most codes are based on Vincent's github project and do some modification in order to run in Jupyter notebook and  my prefered UI.  You can go to Vincent's blog to get complete explanation. \n",
    "\n",
    "### This application has not been rigorously tested and its domain rules are very simple which are hard to cover the complexity of real stock market. There may be also some bugs cause wrong information.\n",
    "## <span style='color:blue'>Don't use this application to make real trading decision. </span>\n",
    "\n",
    "\n",
    "\n",
    "------------------\n",
    "\n",
    "### Main process :\n",
    "\n",
    "1. Get stock ticker and name to be data source of dropdown control\n",
    "2. Get stock price history from yahoo through pandas datareader when user choose a stock from dropdown control\n",
    "3. Plot stock k chart , sma  , macd , rsi lines\n",
    "4. Get stock financial information from financial website to do basic analysis and infer future value for trading decision.\n",
    "\n",
    "\n",
    "\n",
    "### Parsing fincial information from MarketWatch web site\n",
    "    For example, to get Google's financial information from this url : https://www.marketwatch.com/investing/stock/GOOG/financials\n",
    "\n",
    "\n",
    "\n",
    "### Use pandas datareader through yahoo to get share price history\n",
    "```\n",
    "    pdr.DataReader(\n",
    "            ticker.strip(),data_source='yahoo',start=dt(2020,1,1),end=end_date\n",
    "    )\n",
    "```\n",
    "\n",
    "\n",
    "### Warning Signs List based on value investing logic ###\n",
    "\n",
    "Given list of the companies, find out the feasibility to invest\n",
    "\n",
    "1. Been in market minimal 10 years\n",
    "1. Have the track records (EPS per year)\n",
    "1. Have efficiency (ROE > 15%) — Net income / shareholder equity\n",
    "1. Determine manipulation (ROA > 7%) — Net income / Total Asset\n",
    "1. Have small long term debt (Long term debt <5* total income)\n",
    "1. Low Debt to Equity\n",
    "1. Ability to pay interest: (Interest Coverage Ratio >3) — EBIT / Interest expenses\n",
    "\n",
    "\n",
    "\n",
    "### Decision rules for stock transaction\n",
    "\n",
    "Decision making from each company in terms of return rate given the value investing methodology :\n",
    "\n",
    "1. Find EPS Annual Compounded Growth Rate\n",
    "2. Estimate EPS 10 years from now\n",
    "3. Estimate stock price 10 years from now (Stock Price EPS * Average PE)\n",
    "4. Determine target by price today based on returns(discount rate 15%/20%)\n",
    "   - Discount rate indicated predicted inflation over the period of 5 years. \n",
    "5. Add margin of safety (Safety net 15%)\n",
    "   - Margin calculation rate is the toleration for error. You add on additional safety net in the case of calculation error. The more the margin calculation rate, the more risk averse you are or vice versa.\n",
    "6. Buy if market price is lower than the marginal price\n",
    "7. Sell if market price is higher than the marginal price"
   ]
  },
  {
   "cell_type": "code",
   "execution_count": 27,
   "metadata": {
    "tags": []
   },
   "outputs": [
    {
     "output_type": "display_data",
     "data": {
      "text/html": "        <script type=\"text/javascript\">\n        window.PlotlyConfig = {MathJaxConfig: 'local'};\n        if (window.MathJax) {MathJax.Hub.Config({SVG: {font: \"STIX-Web\"}});}\n        if (typeof require !== 'undefined') {\n        require.undef(\"plotly\");\n        requirejs.config({\n            paths: {\n                'plotly': ['https://cdn.plot.ly/plotly-latest.min']\n            }\n        });\n        require(['plotly'], function(Plotly) {\n            window._Plotly = Plotly;\n        });\n        }\n        </script>\n        "
     },
     "metadata": {}
    }
   ],
   "source": [
    "import numpy as np\n",
    "import numpy_financial as npf\n",
    "import dash_bootstrap_components as dbc\n",
    "import webbrowser\n",
    "import dashboard \n",
    "from dashboard import *\n",
    "import importlib\n",
    "import logging\n",
    "from flask.logging import default_handler\n",
    "#%load_ext autoreload\n",
    "%reload_ext autoreload\n",
    "%autoreload 2\n",
    "#%matplotlib inline\n",
    "cf.offline.go_offline() # with execute this command will cause QuantFig.iplot() run into error"
   ]
  },
  {
   "cell_type": "code",
   "execution_count": 28,
   "metadata": {
    "tags": []
   },
   "outputs": [
    {
     "output_type": "stream",
     "name": "stderr",
     "text": "127.0.0.1 - - [09/Sep/2020 21:06:17] \"\u001b[37mGET /_reload-hash HTTP/1.1\u001b[0m\" 200 -\n127.0.0.1 - - [09/Sep/2020 21:06:18] \"\u001b[37mGET /_shutdown_65a6c609-c8e9-4e8f-a541-83e64e675a1f HTTP/1.1\u001b[0m\" 200 -\n127.0.0.1 - - [09/Sep/2020 21:06:18] \"\u001b[37mGET /_alive_65a6c609-c8e9-4e8f-a541-83e64e675a1f HTTP/1.1\u001b[0m\" 200 -\nDash app running on http://127.0.0.1:8123/\n * Running on http://127.0.0.1:8123/ (Press CTRL+C to quit)\n127.0.0.1 - - [09/Sep/2020 21:06:19] \"\u001b[37mGET / HTTP/1.1\u001b[0m\" 200 -\n127.0.0.1 - - [09/Sep/2020 21:06:19] \"\u001b[37mGET /_dash-dependencies HTTP/1.1\u001b[0m\" 200 -\n127.0.0.1 - - [09/Sep/2020 21:06:19] \"\u001b[37mGET /_dash-layout HTTP/1.1\u001b[0m\" 200 -\n127.0.0.1 - - [09/Sep/2020 21:06:20] \"\u001b[37mPOST /_dash-update-component HTTP/1.1\u001b[0m\" 200 -\nhttps://www.marketwatch.com/investing/stock/GOOG/financialshttps://www.marketwatch.com/investing/stock/GOOG/financialshttps://www.marketwatch.com/investing/stock/GOOG/financials\n\n\n127.0.0.1 - - [09/Sep/2020 21:06:22] \"\u001b[37mGET /_reload-hash HTTP/1.1\u001b[0m\" 200 -\n127.0.0.1 - - [09/Sep/2020 21:06:23] \"\u001b[37mPOST /_dash-update-component HTTP/1.1\u001b[0m\" 200 -\n127.0.0.1 - - [09/Sep/2020 21:06:24] \"\u001b[37mPOST /_dash-update-component HTTP/1.1\u001b[0m\" 200 -\n127.0.0.1 - - [09/Sep/2020 21:06:24] \"\u001b[37mPOST /_dash-update-component HTTP/1.1\u001b[0m\" 200 -\n   index                  eps            epsgrowth    netincome  \\\n0   2015                23.12                 0.00  15830000000   \n1   2016                28.32                 0.23  19480000000   \n2   2017                18.27                -0.35  12660000000   \n3   2018                44.22                 1.42  30740000000   \n4   2019                49.59                 0.12  34340000000   \n\n   shareholderequity                  roa  longtermdebt  interestexpense  \\\n0       120330000000                 0.82    2000000000        104000000   \n1       139040000000                 0.83    3940000000        124000000   \n2       152500000000                 0.77    3970000000        109000000   \n3       177630000000                 0.76    4010000000        114000000   \n4       201440000000                 0.73   14770000000        100000000   \n\n        ebitda                  roe  interestcoverageratio  \n0  23020000000                 0.13                 221.35  \n1  29320000000                 0.14                 236.45  \n2  35970000000                 0.08                 330.00  \n3  40570000000                 0.17                 355.88  \n4  47250000000                 0.17                 472.50  \n   index                  eps            epsgrowth    netincome  \\\n0   2015                23.12                 0.00  15830000000   \n1   2016                28.32                 0.23  19480000000   \n2   2017                18.27                -0.35  12660000000   \n3   2018                44.22                 1.42  30740000000   \n4   2019                49.59                 0.12  34340000000   \n\n   shareholderequity                  roa  longtermdebt  interestexpense  \\\n0       120330000000                 0.82    2000000000        104000000   \n1       139040000000                 0.83    3940000000        124000000   \n2       152500000000                 0.77    3970000000        109000000   \n3       177630000000                 0.76    4010000000        114000000   \n4       201440000000                 0.73   14770000000        100000000   \n\n        ebitda                  roe  interestcoverageratio  \n0  23020000000                 0.13                 221.35  \n1  29320000000                 0.14                 236.45  \n2  35970000000                 0.08                 330.00  \n3  40570000000                 0.17                 355.88  \n4  47250000000                 0.17                 472.50  \n   level_0  index                  eps            epsgrowth    netincome  \\\n0        0   2015                23.12                 0.00  15830000000   \n1        1   2016                28.32                 0.23  19480000000   \n2        2   2017                18.27                -0.35  12660000000   \n3        3   2018                44.22                 1.42  30740000000   \n4        4   2019                49.59                 0.12  34340000000   \n\n   shareholderequity                  roa  longtermdebt  interestexpense  \\\n0       120330000000                 0.82    2000000000        104000000   \n1       139040000000                 0.83    3940000000        124000000   \n2       152500000000                 0.77    3970000000        109000000   \n3       177630000000                 0.76    4010000000        114000000   \n4       201440000000                 0.73   14770000000        100000000   \n\n        ebitda                  roe  interestcoverageratio  \n0  23020000000                 0.13                 221.35  \n1  29320000000                 0.14                 236.45  \n2  35970000000                 0.08                 330.00  \n3  40570000000                 0.17                 355.88  \n4  47250000000                 0.17                 472.50  \n127.0.0.1 - - [09/Sep/2020 21:06:24] \"\u001b[37mPOST /_dash-update-component HTTP/1.1\u001b[0m\" 200 -\n   index                  eps            epsgrowth    netincome  \\\n0   2015                23.12                 0.00  15830000000   \n1   2016                28.32                 0.23  19480000000   \n2   2017                18.27                -0.35  12660000000   \n3   2018                44.22                 1.42  30740000000   \n4   2019                49.59                 0.12  34340000000   \n\n   shareholderequity                  roa  longtermdebt  interestexpense  \\\n0       120330000000                 0.82    2000000000        104000000   \n1       139040000000                 0.83    3940000000        124000000   \n2       152500000000                 0.77    3970000000        109000000   \n3       177630000000                 0.76    4010000000        114000000   \n4       201440000000                 0.73   14770000000        100000000   \n\n        ebitda                  roe  interestcoverageratio  \n0  23020000000                 0.13                 221.35  \n1  29320000000                 0.14                 236.45  \n2  35970000000                 0.08                 330.00  \n3  40570000000                 0.17                 355.88  \n4  47250000000                 0.17                 472.50  \n1st year EPS 23.120000 \n5th year EPS 49.590000\nAnnual Growth Rate 0.164880\n127.0.0.1 - - [09/Sep/2020 21:06:25] \"\u001b[37mGET /_reload-hash HTTP/1.1\u001b[0m\" 200 -\n127.0.0.1 - - [09/Sep/2020 21:06:28] \"\u001b[37mGET /_reload-hash HTTP/1.1\u001b[0m\" 200 -\n127.0.0.1 - - [09/Sep/2020 21:06:31] \"\u001b[37mGET /_reload-hash HTTP/1.1\u001b[0m\" 200 -\n127.0.0.1 - - [09/Sep/2020 21:06:34] \"\u001b[37mGET /_reload-hash HTTP/1.1\u001b[0m\" 200 -\n127.0.0.1 - - [09/Sep/2020 21:06:37] \"\u001b[37mGET /_reload-hash HTTP/1.1\u001b[0m\" 200 -\n127.0.0.1 - - [09/Sep/2020 21:06:40] \"\u001b[37mGET /_reload-hash HTTP/1.1\u001b[0m\" 200 -\n"
    }
   ],
   "source": [
    "\n",
    "\n",
    "app = JupyterDash(__name__,external_stylesheets=[dbc.themes.BOOTSTRAP])\n",
    "app.layout = dashboard_layout()\n",
    "app.title = 'Simple Value Investing Dashboard'\n",
    "#logger = logging.getLogger()\n",
    "#logger.addHandler(default_handler)\n",
    "#logger.setLevel(logging.DEBUG)\n",
    "#setLogger(logger)\n",
    "register_callbacks(app)\n",
    "# Run app and display result inline in the notebook\n",
    "if __name__ == '__main__':\n",
    "    app.run_server(\n",
    "        debug=True,\n",
    "        mode='external',    # inline  external  jupyterlab\n",
    "        port=8123,\n",
    "        dev_tools_ui=True,\n",
    "        dev_tools_silence_routes_logging=False) \n",
    "    # set mode='external' to use web browser\n",
    "    # dev_tools_silence_routes_logging=False\n",
    "    url = 'http://localhost:8123/'\n",
    "    webbrowser.open(url)\n",
    "    \n"
   ]
  },
  {
   "cell_type": "code",
   "execution_count": 36,
   "metadata": {
    "tags": []
   },
   "outputs": [
    {
     "output_type": "stream",
     "name": "stderr",
     "text": "DEBUG:urllib3.connectionpool:Starting new HTTPS connection (1): www.marketwatch.com:443\nhttps://www.marketwatch.com/investing/stock/GOOG/financials\n127.0.0.1 - - [09/Sep/2020 18:34:21] \"\u001b[37mGET /_reload-hash HTTP/1.1\u001b[0m\" 200 -\nINFO:werkzeug:127.0.0.1 - - [09/Sep/2020 18:34:21] \"\u001b[37mGET /_reload-hash HTTP/1.1\u001b[0m\" 200 -\nDEBUG:urllib3.connectionpool:https://www.marketwatch.com:443 \"GET /investing/stock/GOOG/financials HTTP/1.1\" 200 31609\nDEBUG:urllib3.connectionpool:Starting new HTTPS connection (1): www.marketwatch.com:443\n127.0.0.1 - - [09/Sep/2020 18:34:24] \"\u001b[37mGET /_reload-hash HTTP/1.1\u001b[0m\" 200 -\nINFO:werkzeug:127.0.0.1 - - [09/Sep/2020 18:34:24] \"\u001b[37mGET /_reload-hash HTTP/1.1\u001b[0m\" 200 -\nDEBUG:urllib3.connectionpool:https://www.marketwatch.com:443 \"GET /investing/stock/GOOG/financials/balance-sheet HTTP/1.1\" 200 33513\n127.0.0.1 - - [09/Sep/2020 18:34:27] \"\u001b[37mGET /_reload-hash HTTP/1.1\u001b[0m\" 200 -\nINFO:werkzeug:127.0.0.1 - - [09/Sep/2020 18:34:27] \"\u001b[37mGET /_reload-hash HTTP/1.1\u001b[0m\" 200 -\n127.0.0.1 - - [09/Sep/2020 18:34:30] \"\u001b[37mGET /_reload-hash HTTP/1.1\u001b[0m\" 200 -\nINFO:werkzeug:127.0.0.1 - - [09/Sep/2020 18:34:30] \"\u001b[37mGET /_reload-hash HTTP/1.1\u001b[0m\" 200 -\n127.0.0.1 - - [09/Sep/2020 18:34:33] \"\u001b[37mGET /_reload-hash HTTP/1.1\u001b[0m\" 200 -\nINFO:werkzeug:127.0.0.1 - - [09/Sep/2020 18:34:33] \"\u001b[37mGET /_reload-hash HTTP/1.1\u001b[0m\" 200 -\n127.0.0.1 - - [09/Sep/2020 18:34:36] \"\u001b[37mGET /_reload-hash HTTP/1.1\u001b[0m\" 200 -\nINFO:werkzeug:127.0.0.1 - - [09/Sep/2020 18:34:36] \"\u001b[37mGET /_reload-hash HTTP/1.1\u001b[0m\" 200 -\n"
    }
   ],
   "source": [
    "financial_report = get_stock_financial_report('GOOG')"
   ]
  },
  {
   "cell_type": "code",
   "execution_count": 37,
   "metadata": {
    "tags": []
   },
   "outputs": [
    {
     "output_type": "stream",
     "name": "stderr",
     "text": "127.0.0.1 - - [09/Sep/2020 18:35:03] \"\u001b[37mGET /_reload-hash HTTP/1.1\u001b[0m\" 200 -\nINFO:werkzeug:127.0.0.1 - - [09/Sep/2020 18:35:03] \"\u001b[37mGET /_reload-hash HTTP/1.1\u001b[0m\" 200 -\n127.0.0.1 - - [09/Sep/2020 18:35:06] \"\u001b[37mGET /_reload-hash HTTP/1.1\u001b[0m\" 200 -\nINFO:werkzeug:127.0.0.1 - - [09/Sep/2020 18:35:06] \"\u001b[37mGET /_reload-hash HTTP/1.1\u001b[0m\" 200 -\n127.0.0.1 - - [09/Sep/2020 18:35:09] \"\u001b[37mGET /_reload-hash HTTP/1.1\u001b[0m\" 200 -\nINFO:werkzeug:127.0.0.1 - - [09/Sep/2020 18:35:09] \"\u001b[37mGET /_reload-hash HTTP/1.1\u001b[0m\" 200 -\n127.0.0.1 - - [09/Sep/2020 18:35:12] \"\u001b[37mGET /_reload-hash HTTP/1.1\u001b[0m\" 200 -\nINFO:werkzeug:127.0.0.1 - - [09/Sep/2020 18:35:12] \"\u001b[37mGET /_reload-hash HTTP/1.1\u001b[0m\" 200 -\n127.0.0.1 - - [09/Sep/2020 18:35:15] \"\u001b[37mGET /_reload-hash HTTP/1.1\u001b[0m\" 200 -\nINFO:werkzeug:127.0.0.1 - - [09/Sep/2020 18:35:15] \"\u001b[37mGET /_reload-hash HTTP/1.1\u001b[0m\" 200 -\n127.0.0.1 - - [09/Sep/2020 18:35:18] \"\u001b[37mGET /_reload-hash HTTP/1.1\u001b[0m\" 200 -\nINFO:werkzeug:127.0.0.1 - - [09/Sep/2020 18:35:18] \"\u001b[37mGET /_reload-hash HTTP/1.1\u001b[0m\" 200 -\n127.0.0.1 - - [09/Sep/2020 18:35:22] \"\u001b[37mGET /_reload-hash HTTP/1.1\u001b[0m\" 200 -\nINFO:werkzeug:127.0.0.1 - - [09/Sep/2020 18:35:22] \"\u001b[37mGET /_reload-hash HTTP/1.1\u001b[0m\" 200 -\n127.0.0.1 - - [09/Sep/2020 18:35:32] \"\u001b[37mGET /_reload-hash HTTP/1.1\u001b[0m\" 200 -\nINFO:werkzeug:127.0.0.1 - - [09/Sep/2020 18:35:32] \"\u001b[37mGET /_reload-hash HTTP/1.1\u001b[0m\" 200 -\n127.0.0.1 - - [09/Sep/2020 18:35:35] \"\u001b[37mGET /_reload-hash HTTP/1.1\u001b[0m\" 200 -\nINFO:werkzeug:127.0.0.1 - - [09/Sep/2020 18:35:35] \"\u001b[37mGET /_reload-hash HTTP/1.1\u001b[0m\" 200 -\n127.0.0.1 - - [09/Sep/2020 18:35:38] \"\u001b[37mGET /_reload-hash HTTP/1.1\u001b[0m\" 200 -\nINFO:werkzeug:127.0.0.1 - - [09/Sep/2020 18:35:38] \"\u001b[37mGET /_reload-hash HTTP/1.1\u001b[0m\" 200 -\n127.0.0.1 - - [09/Sep/2020 18:35:41] \"\u001b[37mGET /_reload-hash HTTP/1.1\u001b[0m\" 200 -\nINFO:werkzeug:127.0.0.1 - - [09/Sep/2020 18:35:41] \"\u001b[37mGET /_reload-hash HTTP/1.1\u001b[0m\" 200 -\n127.0.0.1 - - [09/Sep/2020 18:35:44] \"\u001b[37mGET /_reload-hash HTTP/1.1\u001b[0m\" 200 -\nINFO:werkzeug:127.0.0.1 - - [09/Sep/2020 18:35:44] \"\u001b[37mGET /_reload-hash HTTP/1.1\u001b[0m\" 200 -\n127.0.0.1 - - [09/Sep/2020 18:35:47] \"\u001b[37mGET /_reload-hash HTTP/1.1\u001b[0m\" 200 -\nINFO:werkzeug:127.0.0.1 - - [09/Sep/2020 18:35:47] \"\u001b[37mGET /_reload-hash HTTP/1.1\u001b[0m\" 200 -\n127.0.0.1 - - [09/Sep/2020 18:35:50] \"\u001b[37mGET /_reload-hash HTTP/1.1\u001b[0m\" 200 -\nINFO:werkzeug:127.0.0.1 - - [09/Sep/2020 18:35:50] \"\u001b[37mGET /_reload-hash HTTP/1.1\u001b[0m\" 200 -\n127.0.0.1 - - [09/Sep/2020 18:35:53] \"\u001b[37mGET /_reload-hash HTTP/1.1\u001b[0m\" 200 -\nINFO:werkzeug:127.0.0.1 - - [09/Sep/2020 18:35:53] \"\u001b[37mGET /_reload-hash HTTP/1.1\u001b[0m\" 200 -\n127.0.0.1 - - [09/Sep/2020 18:35:56] \"\u001b[37mGET /_reload-hash HTTP/1.1\u001b[0m\" 200 -\nINFO:werkzeug:127.0.0.1 - - [09/Sep/2020 18:35:56] \"\u001b[37mGET /_reload-hash HTTP/1.1\u001b[0m\" 200 -\n127.0.0.1 - - [09/Sep/2020 18:35:59] \"\u001b[37mGET /_reload-hash HTTP/1.1\u001b[0m\" 200 -\nINFO:werkzeug:127.0.0.1 - - [09/Sep/2020 18:35:59] \"\u001b[37mGET /_reload-hash HTTP/1.1\u001b[0m\" 200 -\n127.0.0.1 - - [09/Sep/2020 18:36:02] \"\u001b[37mGET /_reload-hash HTTP/1.1\u001b[0m\" 200 -\nINFO:werkzeug:127.0.0.1 - - [09/Sep/2020 18:36:02] \"\u001b[37mGET /_reload-hash HTTP/1.1\u001b[0m\" 200 -\n127.0.0.1 - - [09/Sep/2020 18:36:05] \"\u001b[37mGET /_reload-hash HTTP/1.1\u001b[0m\" 200 -\nINFO:werkzeug:127.0.0.1 - - [09/Sep/2020 18:36:05] \"\u001b[37mGET /_reload-hash HTTP/1.1\u001b[0m\" 200 -\n127.0.0.1 - - [09/Sep/2020 18:36:08] \"\u001b[37mGET /_reload-hash HTTP/1.1\u001b[0m\" 200 -\nINFO:werkzeug:127.0.0.1 - - [09/Sep/2020 18:36:08] \"\u001b[37mGET /_reload-hash HTTP/1.1\u001b[0m\" 200 -\n127.0.0.1 - - [09/Sep/2020 18:36:11] \"\u001b[37mGET /_reload-hash HTTP/1.1\u001b[0m\" 200 -\nINFO:werkzeug:127.0.0.1 - - [09/Sep/2020 18:36:11] \"\u001b[37mGET /_reload-hash HTTP/1.1\u001b[0m\" 200 -\n127.0.0.1 - - [09/Sep/2020 18:36:14] \"\u001b[37mGET /_reload-hash HTTP/1.1\u001b[0m\" 200 -\nINFO:werkzeug:127.0.0.1 - - [09/Sep/2020 18:36:14] \"\u001b[37mGET /_reload-hash HTTP/1.1\u001b[0m\" 200 -\n127.0.0.1 - - [09/Sep/2020 18:36:18] \"\u001b[37mGET /_reload-hash HTTP/1.1\u001b[0m\" 200 -\nINFO:werkzeug:127.0.0.1 - - [09/Sep/2020 18:36:18] \"\u001b[37mGET /_reload-hash HTTP/1.1\u001b[0m\" 200 -\n"
    }
   ],
   "source": [
    "financial_df =get_stock_financial_info_from_report(financial_report)"
   ]
  },
  {
   "cell_type": "code",
   "execution_count": 39,
   "metadata": {
    "tags": []
   },
   "outputs": [
    {
     "output_type": "stream",
     "name": "stderr",
     "text": "DEBUG:urllib3.connectionpool:Starting new HTTPS connection (1): finance.yahoo.com:443\n127.0.0.1 - - [09/Sep/2020 18:36:26] \"\u001b[37mGET /_reload-hash HTTP/1.1\u001b[0m\" 200 -\nINFO:werkzeug:127.0.0.1 - - [09/Sep/2020 18:36:26] \"\u001b[37mGET /_reload-hash HTTP/1.1\u001b[0m\" 200 -\nDEBUG:urllib3.connectionpool:https://finance.yahoo.com:443 \"GET /quote/GOOG/history?period1=1577822400&period2=1599681599&interval=1d&frequency=1d&filter=history HTTP/1.1\" 200 None\n127.0.0.1 - - [09/Sep/2020 18:36:30] \"\u001b[37mGET /_reload-hash HTTP/1.1\u001b[0m\" 200 -\nINFO:werkzeug:127.0.0.1 - - [09/Sep/2020 18:36:30] \"\u001b[37mGET /_reload-hash HTTP/1.1\u001b[0m\" 200 -\n127.0.0.1 - - [09/Sep/2020 18:36:34] \"\u001b[37mGET /_reload-hash HTTP/1.1\u001b[0m\" 200 -\nINFO:werkzeug:127.0.0.1 - - [09/Sep/2020 18:36:34] \"\u001b[37mGET /_reload-hash HTTP/1.1\u001b[0m\" 200 -\n127.0.0.1 - - [09/Sep/2020 18:36:39] \"\u001b[37mGET /_reload-hash HTTP/1.1\u001b[0m\" 200 -\nINFO:werkzeug:127.0.0.1 - - [09/Sep/2020 18:36:39] \"\u001b[37mGET /_reload-hash HTTP/1.1\u001b[0m\" 200 -\n127.0.0.1 - - [09/Sep/2020 18:36:42] \"\u001b[37mGET /_reload-hash HTTP/1.1\u001b[0m\" 200 -\nINFO:werkzeug:127.0.0.1 - - [09/Sep/2020 18:36:42] \"\u001b[37mGET /_reload-hash HTTP/1.1\u001b[0m\" 200 -\n127.0.0.1 - - [09/Sep/2020 18:36:47] \"\u001b[37mGET /_reload-hash HTTP/1.1\u001b[0m\" 200 -\nINFO:werkzeug:127.0.0.1 - - [09/Sep/2020 18:36:47] \"\u001b[37mGET /_reload-hash HTTP/1.1\u001b[0m\" 200 -\n127.0.0.1 - - [09/Sep/2020 18:36:50] \"\u001b[37mGET /_reload-hash HTTP/1.1\u001b[0m\" 200 -\nINFO:werkzeug:127.0.0.1 - - [09/Sep/2020 18:36:50] \"\u001b[37mGET /_reload-hash HTTP/1.1\u001b[0m\" 200 -\n127.0.0.1 - - [09/Sep/2020 18:36:54] \"\u001b[37mGET /_reload-hash HTTP/1.1\u001b[0m\" 200 -\nINFO:werkzeug:127.0.0.1 - - [09/Sep/2020 18:36:54] \"\u001b[37mGET /_reload-hash HTTP/1.1\u001b[0m\" 200 -\n127.0.0.1 - - [09/Sep/2020 18:36:58] \"\u001b[37mGET /_reload-hash HTTP/1.1\u001b[0m\" 200 -\nINFO:werkzeug:127.0.0.1 - - [09/Sep/2020 18:36:58] \"\u001b[37mGET /_reload-hash HTTP/1.1\u001b[0m\" 200 -\n"
    }
   ],
   "source": [
    "stockprice=get_stock_price('GOOG','2015-09-09',end_date=dt.now())"
   ]
  },
  {
   "cell_type": "code",
   "execution_count": 50,
   "metadata": {
    "tags": []
   },
   "outputs": [
    {
     "output_type": "stream",
     "name": "stderr",
     "text": "127.0.0.1 - - [09/Sep/2020 18:57:24] \"\u001b[37mGET /_reload-hash HTTP/1.1\u001b[0m\" 200 -\nINFO:werkzeug:127.0.0.1 - - [09/Sep/2020 18:57:24] \"\u001b[37mGET /_reload-hash HTTP/1.1\u001b[0m\" 200 -\n1st year EPS 23.120000 \n5th year EPS 49.590000\nAnnual Growth Rate 0.164880\nPE ration 26.961485\n"
    },
    {
     "output_type": "execute_result",
     "data": {
      "text/plain": "           annualgrowthrate              lasteps            futureeps  \\\nticker                                                                  \nGOOG                   0.16                49.59               228.14   \n\n                    peratio                   FV                   PV  \\\nticker                                                                  \nGOOG                  26.96             6,151.07             5,568.48   \n\n                marginprice       lastshareprice decision  \nticker                                                     \nGOOG               5,512.80             1,532.39      BUY  ",
      "text/html": "<div>\n<style scoped>\n    .dataframe tbody tr th:only-of-type {\n        vertical-align: middle;\n    }\n\n    .dataframe tbody tr th {\n        vertical-align: top;\n    }\n\n    .dataframe thead th {\n        text-align: right;\n    }\n</style>\n<table border=\"1\" class=\"dataframe\">\n  <thead>\n    <tr style=\"text-align: right;\">\n      <th></th>\n      <th>annualgrowthrate</th>\n      <th>lasteps</th>\n      <th>futureeps</th>\n      <th>peratio</th>\n      <th>FV</th>\n      <th>PV</th>\n      <th>marginprice</th>\n      <th>lastshareprice</th>\n      <th>decision</th>\n    </tr>\n    <tr>\n      <th>ticker</th>\n      <th></th>\n      <th></th>\n      <th></th>\n      <th></th>\n      <th></th>\n      <th></th>\n      <th></th>\n      <th></th>\n      <th></th>\n    </tr>\n  </thead>\n  <tbody>\n    <tr>\n      <th>GOOG</th>\n      <td>0.16</td>\n      <td>49.59</td>\n      <td>228.14</td>\n      <td>26.96</td>\n      <td>6,151.07</td>\n      <td>5,568.48</td>\n      <td>5,512.80</td>\n      <td>1,532.39</td>\n      <td>BUY</td>\n    </tr>\n  </tbody>\n</table>\n</div>"
     },
     "metadata": {},
     "execution_count": 50
    }
   ],
   "source": [
    "infer_reasonable_share_price('GOOG',financial_df,stockprice,0.01,0.01)"
   ]
  },
  {
   "cell_type": "code",
   "execution_count": 20,
   "metadata": {
    "tags": []
   },
   "outputs": [
    {
     "output_type": "stream",
     "name": "stdout",
     "text": "https://www.marketwatch.com/investing/stock/GOOG/financials\n                      eps            epsgrowth    netincome  \\\n2015                23.12                 0.00  15830000000   \n2016                28.32                 0.23  19480000000   \n2017                18.27                -0.35  12660000000   \n2018                44.22                 1.42  30740000000   \n2019                49.59                 0.12  34340000000   \n\n      shareholderequity                  roa  longtermdebt  interestexpense  \\\n2015       120330000000                 0.82    2000000000        104000000   \n2016       139040000000                 0.83    3940000000        124000000   \n2017       152500000000                 0.77    3970000000        109000000   \n2018       177630000000                 0.76    4010000000        114000000   \n2019       201440000000                 0.73   14770000000        100000000   \n\n           ebitda                  roe  interestcoverageratio  \n2015  23020000000                 0.13                 221.35  \n2016  29320000000                 0.14                 236.45  \n2017  35970000000                 0.08                 330.00  \n2018  40570000000                 0.17                 355.88  \n2019  47250000000                 0.17                 472.50  \nfinancial_info_df    index                  eps            epsgrowth    netincome  \\\n0   2015                23.12                 0.00  15830000000   \n1   2016                28.32                 0.23  19480000000   \n2   2017                18.27                -0.35  12660000000   \n3   2018                44.22                 1.42  30740000000   \n4   2019                49.59                 0.12  34340000000   \n\n   shareholderequity                  roa  longtermdebt  interestexpense  \\\n0       120330000000                 0.82    2000000000        104000000   \n1       139040000000                 0.83    3940000000        124000000   \n2       152500000000                 0.77    3970000000        109000000   \n3       177630000000                 0.76    4010000000        114000000   \n4       201440000000                 0.73   14770000000        100000000   \n\n        ebitda                  roe  interestcoverageratio  \n0  23020000000                 0.13                 221.35  \n1  29320000000                 0.14                 236.45  \n2  35970000000                 0.08                 330.00  \n3  40570000000                 0.17                 355.88  \n4  47250000000                 0.17                 472.50  \n{}\n{'financial_report':         eps            epsgrowth netincome shareholderequity  \\\n2015  23.12                  nan    15.83B           120.33B   \n2016  28.32                  nan    19.48B           139.04B   \n2017  18.27                  nan    12.66B            152.5B   \n2018  44.22                  nan    30.74B           177.63B   \n2019  49.59                  nan    34.34B           201.44B   \n\n                      roa longtermdebt interestexpense  ebitda  \\\n2015                  nan           2B            104M  23.02B   \n2016                  nan        3.94B            124M  29.32B   \n2017                  nan        3.97B            109M  35.97B   \n2018                  nan        4.01B            114M  40.57B   \n2019                  nan       14.77B            100M  47.25B   \n\n                      roe  interestcoverageratio  \n2015                  nan                    nan  \n2016                  nan                    nan  \n2017                  nan                    nan  \n2018                  nan                    nan  \n2019                  nan                    nan  }\n{'financial_report':         eps            epsgrowth netincome shareholderequity  \\\n2015  23.12                  nan    15.83B           120.33B   \n2016  28.32                  nan    19.48B           139.04B   \n2017  18.27                  nan    12.66B            152.5B   \n2018  44.22                  nan    30.74B           177.63B   \n2019  49.59                  nan    34.34B           201.44B   \n\n                      roa longtermdebt interestexpense  ebitda  \\\n2015                  nan           2B            104M  23.02B   \n2016                  nan        3.94B            124M  29.32B   \n2017                  nan        3.97B            109M  35.97B   \n2018                  nan        4.01B            114M  40.57B   \n2019                  nan       14.77B            100M  47.25B   \n\n                      roe  interestcoverageratio  \n2015                  nan                    nan  \n2016                  nan                    nan  \n2017                  nan                    nan  \n2018                  nan                    nan  \n2019                  nan                    nan  , 'financial_info_df':    index                  eps            epsgrowth    netincome  \\\n0   2015                23.12                 0.00  15830000000   \n1   2016                28.32                 0.23  19480000000   \n2   2017                18.27                -0.35  12660000000   \n3   2018                44.22                 1.42  30740000000   \n4   2019                49.59                 0.12  34340000000   \n\n   shareholderequity                  roa  longtermdebt  interestexpense  \\\n0       120330000000                 0.82    2000000000        104000000   \n1       139040000000                 0.83    3940000000        124000000   \n2       152500000000                 0.77    3970000000        109000000   \n3       177630000000                 0.76    4010000000        114000000   \n4       201440000000                 0.73   14770000000        100000000   \n\n        ebitda                  roe  interestcoverageratio  \n0  23020000000                 0.13                 221.35  \n1  29320000000                 0.14                 236.45  \n2  35970000000                 0.08                 330.00  \n3  40570000000                 0.17                 355.88  \n4  47250000000                 0.17                 472.50  }\n"
    },
    {
     "output_type": "execute_result",
     "data": {
      "text/plain": "{'financial_report':         eps            epsgrowth netincome shareholderequity  \\\n 2015  23.12                  nan    15.83B           120.33B   \n 2016  28.32                  nan    19.48B           139.04B   \n 2017  18.27                  nan    12.66B            152.5B   \n 2018  44.22                  nan    30.74B           177.63B   \n 2019  49.59                  nan    34.34B           201.44B   \n \n                       roa longtermdebt interestexpense  ebitda  \\\n 2015                  nan           2B            104M  23.02B   \n 2016                  nan        3.94B            124M  29.32B   \n 2017                  nan        3.97B            109M  35.97B   \n 2018                  nan        4.01B            114M  40.57B   \n 2019                  nan       14.77B            100M  47.25B   \n \n                       roe  interestcoverageratio  \n 2015                  nan                    nan  \n 2016                  nan                    nan  \n 2017                  nan                    nan  \n 2018                  nan                    nan  \n 2019                  nan                    nan  ,\n 'financial_info_df':    index                  eps            epsgrowth    netincome  \\\n 0   2015                23.12                 0.00  15830000000   \n 1   2016                28.32                 0.23  19480000000   \n 2   2017                18.27                -0.35  12660000000   \n 3   2018                44.22                 1.42  30740000000   \n 4   2019                49.59                 0.12  34340000000   \n \n    shareholderequity                  roa  longtermdebt  interestexpense  \\\n 0       120330000000                 0.82    2000000000        104000000   \n 1       139040000000                 0.83    3940000000        124000000   \n 2       152500000000                 0.77    3970000000        109000000   \n 3       177630000000                 0.76    4010000000        114000000   \n 4       201440000000                 0.73   14770000000        100000000   \n \n         ebitda                  roe  interestcoverageratio  \n 0  23020000000                 0.13                 221.35  \n 1  29320000000                 0.14                 236.45  \n 2  35970000000                 0.08                 330.00  \n 3  40570000000                 0.17                 355.88  \n 4  47250000000                 0.17                 472.50  }"
     },
     "metadata": {},
     "execution_count": 20
    }
   ],
   "source": [
    "query_financial_report('GOOG')"
   ]
  },
  {
   "cell_type": "code",
   "execution_count": 18,
   "metadata": {},
   "outputs": [],
   "source": [
    " def query_financial_report(ticker):\n",
    "\n",
    "        stock_financial_df = {} #pd.DataFrame()\n",
    "        financial_report = get_stock_financial_report(ticker).reset_index()\n",
    "        financial_info_df = get_stock_financial_info_from_report(financial_report).reset_index()\n",
    "        print(\"financial_info_df\",financial_info_df)\n",
    "        financial_report[['roe', 'interestcoverageratio', 'epsgrowth', 'roa']] = np.round(\n",
    "                    financial_info_df[['roe', 'interestcoverageratio', 'epsgrowth', 'roa']], 2)\n",
    "        #print(stock_financial_df)\n",
    "        stock_financial_df[\"financial_report\"]=financial_report\n",
    "        #print(stock_financial_df)\n",
    "        stock_financial_df[\"financial_info_df\"]=financial_info_df\n",
    "        #print(stock_financial_df)\n",
    "        #stock_financial_df_dict[ticker]=stock_financial_df\n",
    "        return stock_financial_df"
   ]
  },
  {
   "cell_type": "code",
   "execution_count": 10,
   "metadata": {},
   "outputs": [],
   "source": [
    "stock_financial_df = stock_financial_df_dict.get('GOOG')"
   ]
  },
  {
   "cell_type": "code",
   "execution_count": 11,
   "metadata": {},
   "outputs": [
    {
     "output_type": "execute_result",
     "data": {
      "text/plain": "{'financial_report':    index    eps            epsgrowth netincome shareholderequity  \\\n 0   2015  23.12                 0.00    15.83B           120.33B   \n 1   2016  28.32                 0.23    19.48B           139.04B   \n 2   2017  18.27                -0.35    12.66B            152.5B   \n 3   2018  44.22                 1.42    30.74B           177.63B   \n 4   2019  49.59                 0.12    34.34B           201.44B   \n \n                    roa longtermdebt interestexpense  ebitda  \\\n 0                 0.82           2B            104M  23.02B   \n 1                 0.83        3.94B            124M  29.32B   \n 2                 0.77        3.97B            109M  35.97B   \n 3                 0.76        4.01B            114M  40.57B   \n 4                 0.73       14.77B            100M  47.25B   \n \n                    roe  interestcoverageratio  \n 0                 0.13                 221.35  \n 1                 0.14                 236.45  \n 2                 0.08                 330.00  \n 3                 0.17                 355.88  \n 4                 0.17                 472.50  ,\n 'financial_info_df':    level_0  index                  eps            epsgrowth    netincome  \\\n 0        0   2015                23.12                 0.00  15830000000   \n 1        1   2016                28.32                 0.23  19480000000   \n 2        2   2017                18.27                -0.35  12660000000   \n 3        3   2018                44.22                 1.42  30740000000   \n 4        4   2019                49.59                 0.12  34340000000   \n \n    shareholderequity                  roa  longtermdebt  interestexpense  \\\n 0       120330000000                 0.82    2000000000        104000000   \n 1       139040000000                 0.83    3940000000        124000000   \n 2       152500000000                 0.77    3970000000        109000000   \n 3       177630000000                 0.76    4010000000        114000000   \n 4       201440000000                 0.73   14770000000        100000000   \n \n         ebitda                  roe  interestcoverageratio  \n 0  23020000000                 0.13                 221.35  \n 1  29320000000                 0.14                 236.45  \n 2  35970000000                 0.08                 330.00  \n 3  40570000000                 0.17                 355.88  \n 4  47250000000                 0.17                 472.50  }"
     },
     "metadata": {},
     "execution_count": 11
    }
   ],
   "source": [
    "stock_financial_df"
   ]
  },
  {
   "cell_type": "code",
   "execution_count": 29,
   "metadata": {},
   "outputs": [],
   "source": [
    "del stock_financial_df_dict['GOOG']"
   ]
  },
  {
   "cell_type": "code",
   "execution_count": null,
   "metadata": {},
   "outputs": [],
   "source": []
  }
 ]
}