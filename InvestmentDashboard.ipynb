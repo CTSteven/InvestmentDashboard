{
 "metadata": {
  "language_info": {
   "codemirror_mode": {
    "name": "ipython",
    "version": 3
   },
   "file_extension": ".py",
   "mimetype": "text/x-python",
   "name": "python",
   "nbconvert_exporter": "python",
   "pygments_lexer": "ipython3",
   "version": "3.6.3-final"
  },
  "orig_nbformat": 2,
  "kernelspec": {
   "name": "python36364bitmyenvvenv92c6f264227046668b513e81ec6b02ec",
   "display_name": "Python 3.6.3 64-bit ('my_env': venv)"
  }
 },
 "nbformat": 4,
 "nbformat_minor": 2,
 "cells": [
  {
   "cell_type": "markdown",
   "metadata": {},
   "source": [
    "## Simple Value Investing Dashboard, using python \n",
    "\n",
    "This application , refer [Vincent Tatan's blog and project at GitHub ](https://towardsdatascience.com/value-investing-dashboard-with-python-beautiful-soup-and-dash-python-43002f6a97ca) , collect company's stock price history , financial summary information from professional financial website ( MarketWatch) and yahoo ( pandas' datareader) to do simple rule-based analysis and infer reasonable share price then give user a hint about sell or buy decision .\n",
    "\n",
    "Value investment and technical analysis are two mainstream in stock market. To increase probability of winning , investors now should know more than that in this rapid change era . Maybe choose good funds to buy is better idea for general investors.  Even professional fund managers face big challenge to fast collecting and interpreting information for making good trading decision and quick enough before market change to another condition . Information system could help practitioners do their job easier. \n",
    "\n",
    "Python is hot and popular in data science community. Many experts contribute lots of data processing and visualization packages to Python, make it is easy to use and learn if there are good examples. This application show how Python can process web resources and organize information with friendly tabular and chart web page offering a easy to use investment tool.  I have learned a lot through reading codes , developing new function and refactoring part of UI and code to another style . Thanks Vincent share his idea and project. \n",
    "\n",
    "Following are some changes I make from that project :\n",
    "- Change UI layout and apply Bootstrap 4\n",
    "- Could execute in Jupyter notebook\n",
    "- Change share price graph to K chart , add SMA , MACD , RSI \n",
    "- File name are also changed and do some code refactoring\n",
    "- Get data through API from stock market data company is more reliable and efficient than parsing web page from website , but this part left no modification.\n",
    "\n",
    "\n",
    "It's fun and very useful to develop investment portfolio management or stock investment tools. The book [\"The Man Who Solved the Market\"](https://www.amazon.com/Man-Who-Solved-Market-Revolution/dp/073521798X)  tell the story about how the company , initial core members are lots of top PHD mathematicians , develop information system to beat financial market . The idea of Big Data and AI are already implemented to solve complicate and dynamic changing problem in that era . The book doesn't uncover technical detail, it's business secret to build competition barrier and reduce the impact of similar market strategy. Many company already build similar investment strategy and tool. Since Big Data and AI technology quickly spread to software community and industry. More and more people and company know how to use that technology. Such system may soon be from unique superiority become basic ability of industries.  \n",
    "\n",
    "\n",
    ".\n",
    "\n",
    "## Warning : ##\n",
    "This application has not been rigorously tested and its domain rules are very simple which are hard to cover the complexity of real stock market. There may be also wrong information introduced by some not found bugs.\n",
    "## <span style='color:#a00000'>This application is not mature enough and risky to be your decision tool in real stock market !</span>\n",
    "\n",
    "\n",
    "\n",
    "-------\n",
    "\n",
    "\n",
    "Main process :\n",
    "\n",
    "1. Get stock ticker and name to be data source of dropdown control\n",
    "2. Get stock price history from yahoo through pandas datareader when user choose a stock from dropdown control\n",
    "3. Plot stock k chart , sma  , macd , rsi lines\n",
    "4. Get stock financial information from financial website to do basic analysis and infer future value for trading decision.\n",
    "\n",
    "\n",
    "You can refer [Vincent Tatan's blog ](https://towardsdatascience.com/value-investing-dashboard-with-python-beautiful-soup-and-dash-python-43002f6a97ca) to learn complete explanation."
   ]
  },
  {
   "cell_type": "code",
   "execution_count": 3,
   "metadata": {
    "tags": []
   },
   "outputs": [
    {
     "output_type": "display_data",
     "data": {
      "text/html": "        <script type=\"text/javascript\">\n        window.PlotlyConfig = {MathJaxConfig: 'local'};\n        if (window.MathJax) {MathJax.Hub.Config({SVG: {font: \"STIX-Web\"}});}\n        if (typeof require !== 'undefined') {\n        require.undef(\"plotly\");\n        requirejs.config({\n            paths: {\n                'plotly': ['https://cdn.plot.ly/plotly-latest.min']\n            }\n        });\n        require(['plotly'], function(Plotly) {\n            window._Plotly = Plotly;\n        });\n        }\n        </script>\n        "
     },
     "metadata": {}
    }
   ],
   "source": [
    "import numpy as np\n",
    "import numpy_financial as npf\n",
    "import dash_bootstrap_components as dbc\n",
    "from dateutil.relativedelta import relativedelta\n",
    "import webbrowser\n",
    "import dashboard \n",
    "from dashboard import *\n",
    "import importlib\n",
    "import logging\n",
    "from flask.logging import default_handler\n",
    "#%load_ext autoreload\n",
    "%reload_ext autoreload\n",
    "%autoreload 2\n",
    "#%matplotlib inline\n",
    "cf.offline.go_offline() # with execute this command will cause QuantFig.iplot() run into error"
   ]
  },
  {
   "cell_type": "code",
   "execution_count": 4,
   "metadata": {
    "tags": []
   },
   "outputs": [
    {
     "output_type": "stream",
     "name": "stdout",
     "text": "Dash app running on http://127.0.0.1:8123/\n"
    }
   ],
   "source": [
    "app = JupyterDash(__name__,external_stylesheets=[dbc.themes.BOOTSTRAP])\n",
    "app.layout = dashboard_layout()\n",
    "app.title = 'Simple Value Investing Dashboard'\n",
    "register_callbacks(app)\n",
    "if __name__ == '__main__':\n",
    "    app.run_server(\n",
    "        debug=True,\n",
    "        mode='external',    # inline  external  jupyterlab\n",
    "        port=8123,\n",
    "        dev_tools_ui=False,\n",
    "        dev_tools_silence_routes_logging=True) \n",
    "    # set mode='external' to use web browser\n",
    "    # dev_tools_silence_routes_logging=False\n",
    "    url = 'http://localhost:8123/'\n",
    "    webbrowser.open(url)\n",
    "    \n"
   ]
  },
  {
   "cell_type": "code",
   "execution_count": null,
   "metadata": {},
   "outputs": [],
   "source": []
  }
 ]
}