{
 "metadata": {
  "language_info": {
   "codemirror_mode": {
    "name": "ipython",
    "version": 3
   },
   "file_extension": ".py",
   "mimetype": "text/x-python",
   "name": "python",
   "nbconvert_exporter": "python",
   "pygments_lexer": "ipython3",
   "version": "3.6.3-final"
  },
  "orig_nbformat": 2,
  "kernelspec": {
   "name": "python36364bitmyenvvenv92c6f264227046668b513e81ec6b02ec",
   "display_name": "Python 3.6.3 64-bit ('my_env': venv)"
  }
 },
 "nbformat": 4,
 "nbformat_minor": 2,
 "cells": [
  {
   "cell_type": "markdown",
   "metadata": {},
   "source": [
    "# Investment Dashboard \n",
    "\n",
    "\n",
    "\n",
    "This is a python data process exercise following [Vincent Tatan's blog at Medium](https://towardsdatascience.com/value-investing-dashboard-with-python-beautiful-soup-and-dash-python-43002f6a97ca).\n",
    "\n",
    "The goal of this application is to help you retrieve and display the right financial insights quickly about a certain company.\n",
    "\n",
    "------------------\n",
    "\n",
    "### Main process :\n",
    "\n",
    "1. Get stock ticker and name to be data source of dropdown control\n",
    "2. Get stock price history from yahoo through pandas datareader when user choose a stock from dropdown control\n",
    "3. Plot stock k chart , sma  , macd , rsi lines\n",
    "4. Get stock financial information from financial website to do basic analysis and infer future value for trading decision.\n",
    "\n",
    "\n",
    "\n",
    "### Parsing fincial information from MarketWatch web site\n",
    "    For example, to get Google's financial information from this url : https://www.marketwatch.com/investing/stock/GOOG/financials\n",
    "\n",
    "\n",
    "\n",
    "### Use pandas datareader through yahoo to get share price history\n",
    "```\n",
    "    pdr.DataReader(\n",
    "            ticker.strip(),data_source='yahoo',start=dt(2020,1,1),end=end_date\n",
    "    )\n",
    "```\n",
    "\n",
    "\n",
    "### Warning Signs List based on value investing logic ###\n",
    "\n",
    "Given list of the companies, find out the feasibility to invest\n",
    "\n",
    "1. Been in market minimal 10 years\n",
    "1. Have the track records (EPS per year)\n",
    "1. Have efficiency (ROE > 15%) — Net income / shareholder equity\n",
    "1. Determine manipulation (ROA > 7%) — Net income / Total Asset\n",
    "1. Have small long term debt (Long term debt <5* total income)\n",
    "1. Low Debt to Equity\n",
    "1. Ability to pay interest: (Interest Coverage Ratio >3) — EBIT / Interest expenses\n",
    "\n",
    "\n",
    "\n",
    "### Decision rules for stock transaction\n",
    "\n",
    "Decision making from each company in terms of return rate given the value investing methodology :\n",
    "\n",
    "1. Find EPS Annual Compounded Growth Rate\n",
    "2. Estimate EPS 10 years from now\n",
    "3. Estimate stock price 10 years from now (Stock Price EPS * Average PE)\n",
    "4. Determine target by price today based on returns(discount rate 15%/20%)\n",
    "   - Discount rate indicated predicted inflation over the period of 5 years. \n",
    "5. Add margin of safety (Safety net 15%)\n",
    "   - Margin calculation rate is the toleration for error. You add on additional safety net in the case of calculation error. The more the margin calculation rate, the more risk averse you are or vice versa.\n",
    "6. Buy if market price is lower than the marginal price\n",
    "7. Sell if market price is higher than the marginal price"
   ]
  },
  {
   "cell_type": "code",
   "execution_count": 11,
   "metadata": {
    "tags": []
   },
   "outputs": [
    {
     "output_type": "display_data",
     "data": {
      "text/html": "        <script type=\"text/javascript\">\n        window.PlotlyConfig = {MathJaxConfig: 'local'};\n        if (window.MathJax) {MathJax.Hub.Config({SVG: {font: \"STIX-Web\"}});}\n        if (typeof require !== 'undefined') {\n        require.undef(\"plotly\");\n        requirejs.config({\n            paths: {\n                'plotly': ['https://cdn.plot.ly/plotly-latest.min']\n            }\n        });\n        require(['plotly'], function(Plotly) {\n            window._Plotly = Plotly;\n        });\n        }\n        </script>\n        "
     },
     "metadata": {}
    }
   ],
   "source": [
    "import requests\n",
    "from bs4 import BeautifulSoup\n",
    "import pandas as pd\n",
    "from pandas_datareader import data as pdr\n",
    "from datetime import datetime as dt\n",
    "import matplotlib as mpl\n",
    "import matplotlib.pyplot as plt\n",
    "import cufflinks as cf\n",
    "import plotly.offline as plyo\n",
    "import numpy as np\n",
    "import numpy_financial as npf\n",
    "from jupyter_dash import JupyterDash\n",
    "import dash_core_components as dcc\n",
    "import dash_html_components as dash_html\n",
    "import dash.dependencies as dsah_depend\n",
    "import ipywidgets as widgets\n",
    "import plotly.graph_objects as go\n",
    "import plotly.io as pio\n",
    "from IPython.display import display\n",
    "import dash_bootstrap_components as dbc\n",
    "import dashboard \n",
    "from dashboard import *\n",
    "import stock_info_service \n",
    "from stock_info_service import *\n",
    "import stock_info_service\n",
    "from investment_analysis import *\n",
    "import utils\n",
    "import importlib\n",
    "#importlib.reload(stock_info_service)\n",
    "# from stock_info_service import *\n",
    "#%load_ext autoreload\n",
    "%reload_ext autoreload\n",
    "%autoreload 2\n",
    "#%matplotlib inline\n",
    "cf.offline.go_offline() # with execute this command will cause QuantFig.iplot() run into error"
   ]
  },
  {
   "cell_type": "code",
   "execution_count": 15,
   "metadata": {
    "tags": []
   },
   "outputs": [
    {
     "output_type": "stream",
     "name": "stderr",
     "text": "127.0.0.1 - - [07/Sep/2020 16:52:59] \"\u001b[37mGET /_shutdown_2c1f5273-dc7e-4fe5-b26f-5fadeca0d1bf HTTP/1.1\u001b[0m\" 200 -\n127.0.0.1 - - [07/Sep/2020 16:52:59] \"\u001b[37mGET /_alive_2c1f5273-dc7e-4fe5-b26f-5fadeca0d1bf HTTP/1.1\u001b[0m\" 200 -\n"
    },
    {
     "output_type": "display_data",
     "data": {
      "text/plain": "<IPython.lib.display.IFrame at 0x112ebc630>",
      "text/html": "\n        <iframe\n            width=\"100%\"\n            height=\"650\"\n            src=\"http://127.0.0.1:8123/\"\n            frameborder=\"0\"\n            allowfullscreen\n        ></iframe>\n        "
     },
     "metadata": {}
    }
   ],
   "source": [
    "\n",
    "app = JupyterDash(__name__,external_stylesheets=[dbc.themes.BOOTSTRAP])\n",
    "app.layout = dashboard_layout()\n",
    "app.title = 'Investment Dashboard'\n",
    "register_callbacks(app)\n",
    "# Run app and display result inline in the notebook\n",
    "if __name__ == '__main__':\n",
    "    app.run_server(debug=True,mode='inline',port=8123,dev_tools_ui=True,dev_tools_silence_routes_logging=False) # set mode='external' to use web browser"
   ]
  },
  {
   "cell_type": "code",
   "execution_count": 10,
   "metadata": {
    "tags": []
   },
   "outputs": [
    {
     "output_type": "stream",
     "name": "stdout",
     "text": "Collecting dash-bootstrap-components\n  Downloading dash-bootstrap-components-0.10.5.tar.gz (108 kB)\n\u001b[K     |████████████████████████████████| 108 kB 516 kB/s \n\u001b[?25h  Installing build dependencies ... \u001b[?25ldone\n\u001b[?25h  Getting requirements to build wheel ... \u001b[?25ldone\n\u001b[?25h    Preparing wheel metadata ... \u001b[?25ldone\n\u001b[?25hRequirement already satisfied: dash>=1.9.0 in /Users/steven/GIT/ml/my_env/lib/python3.6/site-packages (from dash-bootstrap-components) (1.15.0)\nRequirement already satisfied: plotly in /Users/steven/GIT/ml/my_env/lib/python3.6/site-packages (from dash>=1.9.0->dash-bootstrap-components) (4.6.0)\nRequirement already satisfied: flask-compress in /Users/steven/GIT/ml/my_env/lib/python3.6/site-packages (from dash>=1.9.0->dash-bootstrap-components) (1.5.0)\nRequirement already satisfied: future in /Users/steven/GIT/ml/my_env/lib/python3.6/site-packages (from dash>=1.9.0->dash-bootstrap-components) (0.18.2)\nRequirement already satisfied: dash-core-components==1.11.0 in /Users/steven/GIT/ml/my_env/lib/python3.6/site-packages (from dash>=1.9.0->dash-bootstrap-components) (1.11.0)\nRequirement already satisfied: dash-html-components==1.1.0 in /Users/steven/GIT/ml/my_env/lib/python3.6/site-packages (from dash>=1.9.0->dash-bootstrap-components) (1.1.0)\nRequirement already satisfied: dash-renderer==1.7.0 in /Users/steven/GIT/ml/my_env/lib/python3.6/site-packages (from dash>=1.9.0->dash-bootstrap-components) (1.7.0)\nRequirement already satisfied: dash-table==4.10.0 in /Users/steven/GIT/ml/my_env/lib/python3.6/site-packages (from dash>=1.9.0->dash-bootstrap-components) (4.10.0)\nRequirement already satisfied: Flask>=1.0.2 in /Users/steven/GIT/ml/my_env/lib/python3.6/site-packages (from dash>=1.9.0->dash-bootstrap-components) (1.1.2)\nRequirement already satisfied: retrying>=1.3.3 in /Users/steven/GIT/ml/my_env/lib/python3.6/site-packages (from plotly->dash>=1.9.0->dash-bootstrap-components) (1.3.3)\nRequirement already satisfied: six in /Users/steven/GIT/ml/my_env/lib/python3.6/site-packages (from plotly->dash>=1.9.0->dash-bootstrap-components) (1.14.0)\nRequirement already satisfied: brotli in /Users/steven/GIT/ml/my_env/lib/python3.6/site-packages (from flask-compress->dash>=1.9.0->dash-bootstrap-components) (1.0.9)\nRequirement already satisfied: click>=5.1 in /Users/steven/GIT/ml/my_env/lib/python3.6/site-packages (from Flask>=1.0.2->dash>=1.9.0->dash-bootstrap-components) (7.1.2)\nRequirement already satisfied: Jinja2>=2.10.1 in /Users/steven/GIT/ml/my_env/lib/python3.6/site-packages (from Flask>=1.0.2->dash>=1.9.0->dash-bootstrap-components) (2.11.1)\nRequirement already satisfied: Werkzeug>=0.15 in /Users/steven/GIT/ml/my_env/lib/python3.6/site-packages (from Flask>=1.0.2->dash>=1.9.0->dash-bootstrap-components) (1.0.1)\nRequirement already satisfied: itsdangerous>=0.24 in /Users/steven/GIT/ml/my_env/lib/python3.6/site-packages (from Flask>=1.0.2->dash>=1.9.0->dash-bootstrap-components) (1.1.0)\nRequirement already satisfied: MarkupSafe>=0.23 in /Users/steven/GIT/ml/my_env/lib/python3.6/site-packages (from Jinja2>=2.10.1->Flask>=1.0.2->dash>=1.9.0->dash-bootstrap-components) (1.1.1)\nBuilding wheels for collected packages: dash-bootstrap-components\n  Building wheel for dash-bootstrap-components (PEP 517) ... \u001b[?25ldone\n\u001b[?25h  Created wheel for dash-bootstrap-components: filename=dash_bootstrap_components-0.10.5-py3-none-any.whl size=180067 sha256=023be51c6043bd5ebc1dd4baf3e771f621968f3e2554f9302a0a640aba6dc684\n  Stored in directory: /Users/steven/Library/Caches/pip/wheels/6e/b9/51/b0d8d74d724a9775f0bb5b4bf6679d08f1ca5cd9e2dc182f70\nSuccessfully built dash-bootstrap-components\nInstalling collected packages: dash-bootstrap-components\nSuccessfully installed dash-bootstrap-components-0.10.5\n\u001b[33mWARNING: You are using pip version 20.0.2; however, version 20.2.2 is available.\nYou should consider upgrading via the '/Users/steven/GIT/ml/my_env/bin/python -m pip install --upgrade pip' command.\u001b[0m\n"
    }
   ],
   "source": [
    "!pip install dash-bootstrap-components"
   ]
  },
  {
   "cell_type": "code",
   "execution_count": null,
   "metadata": {},
   "outputs": [],
   "source": [
    "\n",
    "@app.callback(Output('my-graph', 'figure'), [Input('my-dropdown', 'value')])\n",
    "def update_graph(selected_dropdown_value):\n",
    "    global stockpricedf # Needed to modify global copy of stockpricedf\n",
    "    print(selected_dropdown_value)\n",
    "    stockpricedf = pdr.DataReader(\n",
    "         selected_dropdown_value.strip(), data_source='yahoo',\n",
    "         start=dt(2013, 1, 1), end=dt.now())\n",
    "    return {\n",
    "        'data': [{\n",
    "             'x': stockpricedf.index,\n",
    "             'y': stockpricedf.Close\n",
    "    }]\n",
    "}"
   ]
  },
  {
   "cell_type": "code",
   "execution_count": 5,
   "metadata": {
    "tags": []
   },
   "outputs": [
    {
     "output_type": "stream",
     "name": "stdout",
     "text": "https://www.marketwatch.com/investing/stock/GOOG.tew/financials\n      eps  epsgrowth  netincome  shareholderequity  roa  longtermdebt  \\\n2015    0          0          0                  0    0             0   \n2016    0          0          0                  0    0             0   \n2017    0          0          0                  0    0             0   \n2018    0          0          0                  0    0             0   \n2019    0          0          0                  0    0             0   \n\n      interestexpense  ebitda  roe  interestcoverageratio  \n2015                0       0  NaN                    NaN  \n2016                0       0  NaN                    NaN  \n2017                0       0  NaN                    NaN  \n2018                0       0  NaN                    NaN  \n2019                0       0  NaN                    NaN  \n"
    }
   ],
   "source": [
    "df = get_stock_financial_info('GOOG.tew')"
   ]
  },
  {
   "cell_type": "code",
   "execution_count": 13,
   "metadata": {},
   "outputs": [],
   "source": [
    "stockpricedf = get_stock_price('coke',start_date=dt(2013, 1, 1))"
   ]
  },
  {
   "cell_type": "code",
   "execution_count": 14,
   "metadata": {
    "tags": []
   },
   "outputs": [
    {
     "output_type": "stream",
     "name": "stdout",
     "text": "1st year EPS 0.000000 \n5th year EPS 0.000000\nAnnual Growth Rate nan\n      eps  epsgrowth  netincome  shareholderequity  roa  longtermdebt  \\\n2015    0          0          0                  0    0             0   \n2016    0          0          0                  0    0             0   \n2017    0          0          0                  0    0             0   \n2018    0          0          0                  0    0             0   \n2019    0          0          0                  0    0             0   \n\n      interestexpense  ebitda                  roe  interestcoverageratio  \n2015                0       0                  nan                    nan  \n2016                0       0                  nan                    nan  \n2017                0       0                  nan                    nan  \n2018                0       0                  nan                    nan  \n2019                0       0                  nan                    nan  \nPE ration inf\n"
    },
    {
     "output_type": "execute_result",
     "data": {
      "text/plain": "       annualgrowthrate lasteps futureeps              peratio   FV   PV  \\\nticker                                                                     \ncoke                NaN       0       NaN                  inf  NaN  NaN   \n\n        marginprice       lastshareprice decision  \nticker                                             \ncoke              0               275.29     SELL  ",
      "text/html": "<div>\n<style scoped>\n    .dataframe tbody tr th:only-of-type {\n        vertical-align: middle;\n    }\n\n    .dataframe tbody tr th {\n        vertical-align: top;\n    }\n\n    .dataframe thead th {\n        text-align: right;\n    }\n</style>\n<table border=\"1\" class=\"dataframe\">\n  <thead>\n    <tr style=\"text-align: right;\">\n      <th></th>\n      <th>annualgrowthrate</th>\n      <th>lasteps</th>\n      <th>futureeps</th>\n      <th>peratio</th>\n      <th>FV</th>\n      <th>PV</th>\n      <th>marginprice</th>\n      <th>lastshareprice</th>\n      <th>decision</th>\n    </tr>\n    <tr>\n      <th>ticker</th>\n      <th></th>\n      <th></th>\n      <th></th>\n      <th></th>\n      <th></th>\n      <th></th>\n      <th></th>\n      <th></th>\n      <th></th>\n    </tr>\n  </thead>\n  <tbody>\n    <tr>\n      <th>coke</th>\n      <td>NaN</td>\n      <td>0</td>\n      <td>NaN</td>\n      <td>inf</td>\n      <td>NaN</td>\n      <td>NaN</td>\n      <td>0</td>\n      <td>275.29</td>\n      <td>SELL</td>\n    </tr>\n  </tbody>\n</table>\n</div>"
     },
     "metadata": {},
     "execution_count": 14
    }
   ],
   "source": [
    "infer_reasonable_share_price('coke',df,stockpricedf,0.05,0.05,after_years=10)\n",
    "\t"
   ]
  },
  {
   "cell_type": "code",
   "execution_count": null,
   "metadata": {},
   "outputs": [],
   "source": []
  }
 ]
}