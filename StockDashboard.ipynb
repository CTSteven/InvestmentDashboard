{
 "metadata": {
  "language_info": {
   "codemirror_mode": {
    "name": "ipython",
    "version": 3
   },
   "file_extension": ".py",
   "mimetype": "text/x-python",
   "name": "python",
   "nbconvert_exporter": "python",
   "pygments_lexer": "ipython3",
   "version": "3.6.3-final"
  },
  "orig_nbformat": 2,
  "kernelspec": {
   "name": "python36364bitmyenvvenv92c6f264227046668b513e81ec6b02ec",
   "display_name": "Python 3.6.3 64-bit ('my_env': venv)"
  }
 },
 "nbformat": 4,
 "nbformat_minor": 2,
 "cells": [
  {
   "cell_type": "markdown",
   "metadata": {},
   "source": [
    "### Stock Investment Dashboard\n",
    "\n",
    "This project is originally build on Dash framework. In order to run in Jupyter Notebook, use jupyter-dash to wrap application and open in new window. This is the 2nd version application. The 3rd version already migrate to Django web framework. You can read README to get more imformation."
   ]
  },
  {
   "cell_type": "code",
   "execution_count": 3,
   "metadata": {
    "tags": []
   },
   "outputs": [
    {
     "output_type": "display_data",
     "data": {
      "text/html": "        <script type=\"text/javascript\">\n        window.PlotlyConfig = {MathJaxConfig: 'local'};\n        if (window.MathJax) {MathJax.Hub.Config({SVG: {font: \"STIX-Web\"}});}\n        if (typeof require !== 'undefined') {\n        require.undef(\"plotly\");\n        requirejs.config({\n            paths: {\n                'plotly': ['https://cdn.plot.ly/plotly-latest.min']\n            }\n        });\n        require(['plotly'], function(Plotly) {\n            window._Plotly = Plotly;\n        });\n        }\n        </script>\n        "
     },
     "metadata": {}
    }
   ],
   "source": [
    "import numpy as np\n",
    "import numpy_financial as npf\n",
    "from jupyter_dash import JupyterDash\n",
    "import dash_bootstrap_components as dbc\n",
    "from dateutil.relativedelta import relativedelta\n",
    "import webbrowser\n",
    "import dashboard \n",
    "from dashboard import *\n",
    "import importlib\n",
    "import logging\n",
    "from flask.logging import default_handler\n",
    "#%load_ext autoreload\n",
    "%reload_ext autoreload\n",
    "%autoreload 2\n",
    "#%matplotlib inline\n",
    "cf.offline.go_offline() # with execute this command will cause QuantFig.iplot() run into error"
   ]
  },
  {
   "cell_type": "code",
   "execution_count": 4,
   "metadata": {
    "tags": []
   },
   "outputs": [
    {
     "output_type": "stream",
     "name": "stdout",
     "text": "Dash app running on http://127.0.0.1:8123/\n"
    }
   ],
   "source": [
    "app = JupyterDash(__name__,external_stylesheets=[dbc.themes.BOOTSTRAP])\n",
    "app.layout = dashboard_layout()\n",
    "app.title = 'Simple Value Investing Dashboard'\n",
    "register_callbacks(app)\n",
    "if __name__ == '__main__':\n",
    "    app.run_server(\n",
    "        debug=True,\n",
    "        mode='external',    # inline  external  jupyterlab\n",
    "        port=8123,\n",
    "        dev_tools_ui=False,\n",
    "        dev_tools_silence_routes_logging=True) \n",
    "    # set mode='external' to use web browser\n",
    "    # dev_tools_silence_routes_logging=False\n",
    "    url = 'http://localhost:8123/'\n",
    "    webbrowser.open(url)\n",
    "    \n"
   ]
  },
  {
   "cell_type": "code",
   "execution_count": null,
   "metadata": {},
   "outputs": [],
   "source": []
  }
 ]
}